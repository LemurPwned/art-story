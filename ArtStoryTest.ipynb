{
  "nbformat": 4,
  "nbformat_minor": 0,
  "metadata": {
    "colab": {
      "name": "ArtStoryTest.ipynb",
      "version": "0.3.2",
      "provenance": [],
      "collapsed_sections": [],
      "toc_visible": true
    },
    "kernelspec": {
      "name": "python3",
      "display_name": "Python 3"
    }
  },
  "cells": [
    {
      "cell_type": "code",
      "metadata": {
        "id": "j9Za_ErMg5t-",
        "colab_type": "code",
        "outputId": "a13dc0db-0e78-4a4b-8667-ea0441133595",
        "colab": {
          "base_uri": "https://localhost:8080/",
          "height": 68
        }
      },
      "source": [
        "import nltk \n",
        "nltk.download('stopwords')"
      ],
      "execution_count": 0,
      "outputs": [
        {
          "output_type": "stream",
          "text": [
            "[nltk_data] Downloading package stopwords to /root/nltk_data...\n",
            "[nltk_data]   Package stopwords is already up-to-date!\n"
          ],
          "name": "stdout"
        },
        {
          "output_type": "execute_result",
          "data": {
            "text/plain": [
              "True"
            ]
          },
          "metadata": {
            "tags": []
          },
          "execution_count": 5
        }
      ]
    },
    {
      "cell_type": "code",
      "metadata": {
        "id": "QwC2tN0Mh-4M",
        "colab_type": "code",
        "outputId": "766188a7-1dc2-45b3-f758-3bcaf66c5acc",
        "colab": {
          "base_uri": "https://localhost:8080/",
          "height": 34
        }
      },
      "source": [
        "import json\n",
        "import re\n",
        "from nltk.corpus import stopwords\n",
        "\n",
        "def tokenize_text(source='long_text.txt'):\n",
        "  eng_stopwords = stopwords.words(\"english\")\n",
        "  words = re.findall(r'\\w+', open(source).read().lower())\n",
        "  filtered_words = filter(lambda x: x not in eng_stopwords, words)\n",
        "  word_dict = {w: i for i, w in enumerate(filtered_words)}\n",
        "  return word_dict\n",
        "\n",
        "word_dict = tokenize_text()\n",
        "print(f\"Dictionary size {len(word_dict)}\")"
      ],
      "execution_count": 0,
      "outputs": [
        {
          "output_type": "stream",
          "text": [
            "Dictionary size 29475\n"
          ],
          "name": "stdout"
        }
      ]
    },
    {
      "cell_type": "code",
      "metadata": {
        "id": "MNNWr328r7wv",
        "colab_type": "code",
        "outputId": "c563df61-fef7-4772-9b37-0eee68c31972",
        "colab": {
          "base_uri": "https://localhost:8080/",
          "height": 34
        }
      },
      "source": [
        "def clear_sentence(sentence):\n",
        "    for character in [\n",
        "            \"\\n\", \"\\\"\", \"\\'\", \"\\`\", \"!\", \":\", \";\", \".\", \",\", \"?\", '-', '[',\n",
        "            ']', \"\\\\\", \"|\", \"\\t\", \"#\", \"-\", '(', ')', '{', '}', \"”\"\n",
        "    ]:\n",
        "        sentence = sentence.replace(character, '')\n",
        "    return sentence\n",
        "\n",
        "new_sentences = []\n",
        "with open('./long_text.txt', 'r') as f:\n",
        "    for line in f:\n",
        "        if 'http' in line:\n",
        "            continue\n",
        "        sents = line.split('.')\n",
        "        for sent in sents:\n",
        "            sent = clear_sentence(sent.strip())\n",
        "            words = sent.split(' ')\n",
        "            filtered_words = list(filter(lambda x: (x != ' ') and (x != ''), words))\n",
        "            if len(filtered_words) < 6:\n",
        "                continue\n",
        "            new_sentences.append(' '.join(filtered_words).lower())\n",
        "\n",
        "# print(new_sentences[:150])\n",
        "print(f\"Sentences {len(new_sentences)}\")\n",
        "with open('./sentenced_long_text.txt', 'w') as f:\n",
        "    for item in new_sentences:\n",
        "        f.write(\"%s\\n\" % item)"
      ],
      "execution_count": 0,
      "outputs": [
        {
          "output_type": "stream",
          "text": [
            "Sentences 16159\n"
          ],
          "name": "stdout"
        }
      ]
    },
    {
      "cell_type": "code",
      "metadata": {
        "id": "BhHXbKvfiuC7",
        "colab_type": "code",
        "colab": {}
      },
      "source": [
        "import multiprocessing \n",
        "import time\n",
        "from gensim.models import Word2Vec\n",
        "from gensim.models.word2vec import LineSentence \n",
        "\n",
        "\n",
        "w2v = Word2Vec(min_count=15,\n",
        "               window=5,\n",
        "               size=300,\n",
        "               sample=6e-5,\n",
        "               min_alpha=0.0007, \n",
        "               negative=20,\n",
        "               workers=multiprocessing.cpu_count()-1)"
      ],
      "execution_count": 0,
      "outputs": []
    },
    {
      "cell_type": "code",
      "metadata": {
        "id": "uxoaDR-xkml0",
        "colab_type": "code",
        "outputId": "29f804b1-03a3-4252-e228-d78d0debf004",
        "colab": {
          "base_uri": "https://localhost:8080/",
          "height": 88
        }
      },
      "source": [
        "sentences = LineSentence('./sentenced_long_text.txt')\n",
        "t = time.time()\n",
        "w2v.build_vocab(sentences, progress_per=10000)\n",
        "print('Time to build vocab: {} mins'.format(round((time.time() - t) / 60, 2)))"
      ],
      "execution_count": 0,
      "outputs": [
        {
          "output_type": "stream",
          "text": [
            "Time to build vocab: 0.0 mins\n"
          ],
          "name": "stdout"
        },
        {
          "output_type": "stream",
          "text": [
            "/usr/local/lib/python3.6/dist-packages/smart_open/smart_open_lib.py:398: UserWarning: This function is deprecated, use smart_open.open instead. See the migration notes for details: https://github.com/RaRe-Technologies/smart_open/blob/master/README.rst#migrating-to-the-new-open-function\n",
            "  'See the migration notes for details: %s' % _MIGRATION_NOTES_URL\n"
          ],
          "name": "stderr"
        }
      ]
    },
    {
      "cell_type": "code",
      "metadata": {
        "id": "eGyraF4qyiJ-",
        "colab_type": "code",
        "outputId": "0d89ca18-5b11-4f96-845b-bf6fa5aa6852",
        "colab": {
          "base_uri": "https://localhost:8080/",
          "height": 105
        }
      },
      "source": [
        "t = time.time()\n",
        "w2v.train(sentences, total_examples=w2v.corpus_count, epochs=600, \n",
        "                report_delay=1, compute_loss=True)\n",
        "print(f\"Time to train the model: {round((time.time() - t) / 60, 2)} mins\")\n",
        "print(f\"Loss {w2v.get_latest_training_loss()}\")"
      ],
      "execution_count": 0,
      "outputs": [
        {
          "output_type": "stream",
          "text": [
            "/usr/local/lib/python3.6/dist-packages/smart_open/smart_open_lib.py:398: UserWarning: This function is deprecated, use smart_open.open instead. See the migration notes for details: https://github.com/RaRe-Technologies/smart_open/blob/master/README.rst#migrating-to-the-new-open-function\n",
            "  'See the migration notes for details: %s' % _MIGRATION_NOTES_URL\n"
          ],
          "name": "stderr"
        },
        {
          "output_type": "stream",
          "text": [
            "Time to train the model: 6.78 mins\n",
            "Loss 62690936.0\n"
          ],
          "name": "stdout"
        }
      ]
    },
    {
      "cell_type": "code",
      "metadata": {
        "id": "1oRG5gbdzdBF",
        "colab_type": "code",
        "colab": {}
      },
      "source": [
        "wv = w2v.wv"
      ],
      "execution_count": 0,
      "outputs": []
    },
    {
      "cell_type": "code",
      "metadata": {
        "id": "a7oxgFXqAaRc",
        "colab_type": "code",
        "outputId": "dd86fbc3-9ba0-4973-914d-12644ad2e079",
        "colab": {
          "base_uri": "https://localhost:8080/",
          "height": 153
        }
      },
      "source": [
        "import numpy as np \n",
        "from sklearn.manifold import TSNE\n",
        "from sklearn.decomposition import PCA\n",
        "\n",
        "genres_prop = ['renaissance', 'surrealism', 'constructivism', 'modernism', 'baroque',\n",
        "          'cubism', 'impressionism', 'minimalism', 'classicism', 'graffiti']\n",
        "genres = []\n",
        "genre_vectors = []\n",
        "for genre in genres_prop:\n",
        "  try:\n",
        "    genre_vectors.append(wv[genre])\n",
        "    genres.append(genre)\n",
        "  except KeyError:\n",
        "    print(f\"Genre {genre} is missing from the vocab.\")\n",
        "    len_gen -= 1\n",
        "\n",
        "genre_vectors = np.array(genre_vectors)\n",
        "\n",
        "\n",
        "painters_prop = ['picasso', 'monet', 'rembrandt', 'vinci', \n",
        "                 'frida', 'michelangelo', 'caravaggio', 'rubens',\n",
        "                  'banksy']\n",
        "painter_vectors = []\n",
        "painters = []\n",
        "for painter in painters_prop:\n",
        "  try:\n",
        "    painter_vectors.append(wv[painter])\n",
        "    painters.append(painter)\n",
        "  except KeyError:\n",
        "    print(f\"Painter {painter} is missing from the vocab.\")\n",
        "  \n",
        "painter_vectors = np.array(painter_vectors)\n",
        "vectors = np.concatenate([genre_vectors, painter_vectors])"
      ],
      "execution_count": 0,
      "outputs": [
        {
          "output_type": "stream",
          "text": [
            "Genre constructivism is missing from the vocab.\n",
            "Genre minimalism is missing from the vocab.\n",
            "Genre classicism is missing from the vocab.\n",
            "Painter monet is missing from the vocab.\n",
            "Painter vinci is missing from the vocab.\n",
            "Painter frida is missing from the vocab.\n",
            "Painter caravaggio is missing from the vocab.\n",
            "Painter rubens is missing from the vocab.\n"
          ],
          "name": "stdout"
        }
      ]
    },
    {
      "cell_type": "code",
      "metadata": {
        "id": "V2oZEIYNAfpH",
        "colab_type": "code",
        "outputId": "bd7be0cf-7a2c-4cb3-b1f2-cb4798889e4b",
        "colab": {
          "base_uri": "https://localhost:8080/",
          "height": 265
        }
      },
      "source": [
        "import matplotlib.pyplot as plt \n",
        "\n",
        "len_gen = len(genres)\n",
        "\n",
        "tsne = TSNE(n_components=2, perplexity=35)\n",
        "pca = PCA(n_components=2)\n",
        "Y = tsne.fit_transform(vectors)\n",
        "Y = pca.fit_transform(vectors)\n",
        "\n",
        "plt.scatter(Y[:len_gen, 0], Y[:len_gen, 1])\n",
        "plt.scatter(Y[len_gen:, 0], Y[len_gen:, 1])\n",
        "for i, txt in enumerate(genres):\n",
        "  plt.annotate(txt, (Y[i,0], Y[i, 1]))\n",
        "for i, txt in enumerate(painters):\n",
        "  plt.annotate(txt, (Y[i + len_gen,0], Y[i+len_gen, 1]))\n",
        "\n",
        "plt.axis('off')\n",
        "plt.show()"
      ],
      "execution_count": 0,
      "outputs": [
        {
          "output_type": "display_data",
          "data": {
            "image/png": "[encoded data removed]",
            "text/plain": [
              "<Figure size 432x288 with 1 Axes>"
            ]
          },
          "metadata": {
            "tags": []
          }
        }
      ]
    },
    {
      "cell_type": "code",
      "metadata": {
        "id": "W1Zw65wTCi2-",
        "colab_type": "code",
        "outputId": "fd3d44a9-fb57-41e5-bc79-3d83d171a3a5",
        "colab": {
          "base_uri": "https://localhost:8080/",
          "height": 139
        }
      },
      "source": [
        "for painter in painters_prop:\n",
        "  mst_sml = 0 \n",
        "  mst_sml_lab = None\n",
        "  for genre in genres_prop:\n",
        "    try:\n",
        "      smlr = wv.similarity(painter, genre)\n",
        "    except KeyError: continue\n",
        "    if smlr > mst_sml:\n",
        "      mst_sml = smlr\n",
        "      mst_sml_lab = genre\n",
        "  if mst_sml_lab is not None:\n",
        "    print(f\"Painter {painter}, most_similar {mst_sml_lab}\")"
      ],
      "execution_count": 0,
      "outputs": [
        {
          "output_type": "stream",
          "text": [
            "Painter picasso, most_similar surrealism\n",
            "Painter rembrandt, most_similar renaissance\n",
            "Painter michelangelo, most_similar baroque\n",
            "Painter banksy, most_similar graffiti\n"
          ],
          "name": "stdout"
        },
        {
          "output_type": "stream",
          "text": [
            "/usr/local/lib/python3.6/dist-packages/gensim/matutils.py:737: FutureWarning: Conversion of the second argument of issubdtype from `int` to `np.signedinteger` is deprecated. In future, it will be treated as `np.int64 == np.dtype(int).type`.\n",
            "  if np.issubdtype(vec.dtype, np.int):\n"
          ],
          "name": "stderr"
        }
      ]
    },
    {
      "cell_type": "code",
      "metadata": {
        "id": "bF7mzwdmUCTL",
        "colab_type": "code",
        "colab": {}
      },
      "source": [
        ""
      ],
      "execution_count": 0,
      "outputs": []
    }
  ]
}