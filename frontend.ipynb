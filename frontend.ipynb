{
 "cells": [
  {
   "cell_type": "code",
   "execution_count": 64,
   "source": [
    "import ipywidgets as ipw\n",
    "\n",
    "from elasticsearch import Elasticsearch\n",
    "from typing import Dict, Any, Tuple, List\n",
    "from ipyevents import Event\n",
    "from functools import partial\n",
    "\n",
    "es = Elasticsearch()\n",
    "\n",
    "\n",
    "def create_image_carousel(image_data: Dict[str, str]) -> Tuple[ipw.HBox, List[Event]]:\n",
    "    carousel_child = []\n",
    "    ev_handles = []\n",
    "    for img in image_data:\n",
    "        img_box = ipw.Image.from_url(img['url'])\n",
    "        desc = img['description']\n",
    "        im_event = Event()\n",
    "        im_event.source = img_box\n",
    "        im_event.watched_events = ['click']\n",
    "        im_event.on_dom_event(partial(on_img_clicked, data=img))\n",
    "        ev_handles.append(im_event)\n",
    "        carousel_child.append(img_box)\n",
    "\n",
    "    return ipw.HBox(carousel_child), ev_handles\n",
    "\n",
    "\n",
    "def perform_painting_search(index: str, query: str):\n",
    "    query = {\n",
    "        \"size\": 10,\n",
    "        \"query\": {\n",
    "            \"match\": {\n",
    "                \"description\": query\n",
    "            }\n",
    "        },\n",
    "        \"aggs\": {\n",
    "            \"authors\": {\n",
    "                \"terms\": {\n",
    "                    \"field\": \"author\"\n",
    "                }\n",
    "            },\n",
    "            \"genres\": {\n",
    "                \"terms\": {\n",
    "                    \"field\": \"genre\"\n",
    "                }\n",
    "            },\n",
    "            \"Total authors\": {\n",
    "                \"cardinality\": {\n",
    "                    \"field\": \"author\"\n",
    "                }\n",
    "            },\n",
    "            \"Styles\": {\n",
    "                \"cardinality\": {\n",
    "                    \"field\": \"style\"\n",
    "                }\n",
    "            }\n",
    "        }\n",
    "\n",
    "    }\n",
    "    res = es.search(index=index, body=query)\n",
    "    img_data = [x['_source'] for x in res['hits']['hits']]\n",
    "    return img_data, res['aggregations']\n",
    "\n",
    "\n",
    "description_box = ipw.HTML(value=\"\")\n",
    "aggregation_stats = ipw.HTML(value=\"\")\n",
    "\n",
    "\n",
    "def on_img_clicked(event, data={}):\n",
    "    desc = data.get(\"description\", \"\")\n",
    "    author = data.get(\"author\", \"\")\n",
    "    title = data.get(\"title\", \"\")\n",
    "    html_val = f\"\"\"\n",
    "    <div> \n",
    "        <h2>Author: {author}</h2>\n",
    "        <h2>Title: {title}</h2>\n",
    "        <p style=\"font-family:sans-serif\">{desc}</p>\n",
    "    </div>\n",
    "    \"\"\"\n",
    "    description_box.value = html_val\n",
    "\n",
    "\n",
    "def fill_stats(aggregations: Dict[str, Any]):\n",
    "    authors = aggregations.get('Total authors', \"\")\n",
    "    if authors:\n",
    "        authors = authors['value']\n",
    "    styles = aggregations.get('Styles', \"\")\n",
    "    if styles:\n",
    "        styles = styles['value']\n",
    "\n",
    "    def gen_list(input_doc):\n",
    "        lst = \"\\n\".join(\n",
    "            [f\"<li>{el['key']}: {el['doc_count']}</li>\" for el in input_doc])\n",
    "        return f\"<ul>{lst}</ul>\"\n",
    "\n",
    "    lst = gen_list(aggregations['genres']['buckets'])\n",
    "    html_val = f\"\"\"\n",
    "    <div>\n",
    "        <h3>#Different authors: {authors}</h3>\n",
    "        <h3>#Different styles: {styles}</h3>\n",
    "        <h3>Genres:</h3> \n",
    "        {lst}\n",
    "    </div>\n",
    "    \"\"\"\n",
    "    aggregation_stats.value = html_val\n",
    "\n",
    "\n",
    "search_area = ipw.Text(description='Search:', placeholder=\"Enter a phrase\")\n",
    "search_button = ipw.Button(icon='fa-search')\n",
    "search_box = ipw.HBox([search_area, search_button])\n",
    "\n",
    "handles = []\n",
    "output = ipw.Output()\n",
    "\n",
    "\n",
    "def on_search_clicked(_):\n",
    "    # with output:\n",
    "    # clear out the previous search results\n",
    "    handles = []\n",
    "    aggregation_stats.value = \"\"\n",
    "    description_box.value = \"\"\n",
    "\n",
    "    query_text = search_area.value\n",
    "    img_data, aggs = perform_painting_search(\n",
    "        index=\"paintings\", query=query_text)\n",
    "    img_carousel_, ev_handles = create_image_carousel(\n",
    "        img_data)\n",
    "    img_carousel.children = img_carousel_.children\n",
    "    handles = ev_handles\n",
    "    fill_stats(aggs)\n",
    "\n",
    "\n",
    "img_carousel = ipw.HBox()\n",
    "search_button.on_click(on_search_clicked)\n",
    "search_ = ipw.VBox([search_box, output, description_box,\n",
    "                    img_carousel, aggregation_stats])\n",
    "search_\n"
   ],
   "outputs": [
    {
     "output_type": "display_data",
     "data": {
      "text/plain": [
       "VBox(children=(HBox(children=(Text(value='', description='Search:', placeholder='Enter a phrase'), Button(icon…"
      ],
      "application/vnd.jupyter.widget-view+json": {
       "version_major": 2,
       "version_minor": 0,
       "model_id": "77473f42116945438b0dbccbc7d82552"
      }
     },
     "metadata": {}
    }
   ],
   "metadata": {}
  },
  {
   "cell_type": "code",
   "execution_count": 50,
   "source": [
    "es.indices.get_mapping( 'paintings')"
   ],
   "outputs": [
    {
     "output_type": "stream",
     "name": "stderr",
     "text": [
      "/opt/homebrew/Caskroom/miniforge/base/envs/.art/lib/python3.9/site-packages/elasticsearch/connection/base.py:208: ElasticsearchWarning: Elasticsearch built-in security features are not enabled. Without authentication, your cluster could be accessible to anyone. See https://www.elastic.co/guide/en/elasticsearch/reference/7.13/security-minimal-setup.html to enable security.\n",
      "  warnings.warn(message, category=ElasticsearchWarning)\n"
     ]
    },
    {
     "output_type": "execute_result",
     "data": {
      "text/plain": [
       "{'paintings': {'mappings': {'properties': {'author': {'type': 'keyword'},\n",
       "    'description': {'type': 'text'},\n",
       "    'genre': {'type': 'keyword'},\n",
       "    'material': {'type': 'keyword'},\n",
       "    'style': {'type': 'keyword'},\n",
       "    'tags': {'type': 'text',\n",
       "     'fields': {'keyword': {'type': 'keyword', 'ignore_above': 256}}},\n",
       "    'title': {'type': 'text'},\n",
       "    'url': {'type': 'text'}}}}}"
      ]
     },
     "metadata": {},
     "execution_count": 50
    }
   ],
   "metadata": {}
  }
 ],
 "metadata": {
  "orig_nbformat": 4,
  "language_info": {
   "name": "python",
   "version": "3.9.6",
   "mimetype": "text/x-python",
   "codemirror_mode": {
    "name": "ipython",
    "version": 3
   },
   "pygments_lexer": "ipython3",
   "nbconvert_exporter": "python",
   "file_extension": ".py"
  },
  "kernelspec": {
   "name": "python3",
   "display_name": "Python 3.9.6 64-bit ('.art': conda)"
  },
  "interpreter": {
   "hash": "5943960f05fa8d0a4ee77593c6fb6e49e1174e402884489bc47b8b0bccb1272f"
  }
 },
 "nbformat": 4,
 "nbformat_minor": 2
}