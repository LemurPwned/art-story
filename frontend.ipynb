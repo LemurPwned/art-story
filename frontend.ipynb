{
 "cells": [
  {
   "cell_type": "code",
   "execution_count": 14,
   "source": [
    "from elasticsearch import Elasticsearch \n",
    "from elasticsearch.helpers import streaming_bulk\n",
    "\n",
    "\n",
    "es = Elasticsearch()"
   ],
   "outputs": [],
   "metadata": {}
  },
  {
   "cell_type": "code",
   "execution_count": 62,
   "source": [
    "import ipywidgets as ipw\n",
    "from typing import Dict\n",
    "\n",
    "\n",
    "def create_image_carousel(image_data: Dict[str, str]) -> ipw.HBox:\n",
    "    carousel_child = []\n",
    "    for img in image_data:\n",
    "        img_box = ipw.Image.from_url(img['url'])\n",
    "        desc = img['description']\n",
    "        text_box = f'<p style=\"font-family:sans-serif\">{desc}</p>'\n",
    "        desc_box = ipw.HTML(value=text_box)\n",
    "        info_box = ipw.VBox([img_box, desc_box])\n",
    "        carousel_child.append(info_box)\n",
    "\n",
    "    return ipw.HBox(carousel_child)\n",
    "\n",
    "\n",
    "def perform_painting_search(index: str, query: str):\n",
    "    query = {\n",
    "        \"size\": 10,\n",
    "        \"query\": {\n",
    "            \"match\": {\n",
    "                \"description\": query\n",
    "            }\n",
    "        },\n",
    "        \"aggs\": {\n",
    "            \"authors\": {\n",
    "                \"terms\": {\n",
    "                    \"field\": \"author\"\n",
    "                }\n",
    "            },\n",
    "            \"genres\": {\n",
    "                \"terms\": {\n",
    "                    \"field\": \"genre\"\n",
    "                }\n",
    "            },\n",
    "            \"Total authors\": {\n",
    "                \"cardinality\": {\n",
    "                    \"field\": \"author\"\n",
    "                }\n",
    "            },\n",
    "            \"Styles\": {\n",
    "                \"cardinality\": {\n",
    "                    \"field\": \"style\"\n",
    "                }\n",
    "            }\n",
    "        }\n",
    "\n",
    "    }\n",
    "    res = es.search(index=index, body=query)\n",
    "    print(res['aggregations'])\n",
    "    img_data = [x['_source'] for x in res['hits']['hits']]\n",
    "    return img_data\n",
    "\n",
    "\n",
    "img_data = perform_painting_search(index=\"paintings\", query=\"vase\")\n",
    "create_image_carousel(img_data)\n"
   ],
   "outputs": [
    {
     "output_type": "stream",
     "name": "stderr",
     "text": [
      "/opt/homebrew/Caskroom/miniforge/base/envs/.art/lib/python3.9/site-packages/elasticsearch/connection/base.py:208: ElasticsearchWarning: Elasticsearch built-in security features are not enabled. Without authentication, your cluster could be accessible to anyone. See https://www.elastic.co/guide/en/elasticsearch/reference/7.13/security-minimal-setup.html to enable security.\n",
      "  warnings.warn(message, category=ElasticsearchWarning)\n"
     ]
    },
    {
     "output_type": "stream",
     "name": "stdout",
     "text": [
      "{'genres': {'doc_count_error_upper_bound': 0, 'sum_other_doc_count': 0, 'buckets': [{'key': 'mythological painting, utensil', 'doc_count': 8}, {'key': 'figurative', 'doc_count': 1}, {'key': 'genre painting', 'doc_count': 1}, {'key': 'genre painting, utensil', 'doc_count': 1}, {'key': 'sculpture', 'doc_count': 1}]}, 'Total authors': {'value': 3}, 'Styles': {'value': 6}, 'authors': {'doc_count_error_upper_bound': 0, 'sum_other_doc_count': 0, 'buckets': [{'key': '\\uffff', 'doc_count': 13}, {'key': 'Bunny Rupert ', 'doc_count': 1}, {'key': 'Chicote CFC', 'doc_count': 1}]}}\n"
     ]
    },
    {
     "output_type": "display_data",
     "data": {
      "text/plain": [
       "HBox(children=(VBox(children=(Image(value=b'https://uploads5.wikiart.org/00237/images/ancient-greek-painting/t…"
      ],
      "application/vnd.jupyter.widget-view+json": {
       "version_major": 2,
       "version_minor": 0,
       "model_id": "22dc708eb7d94acfb795365f26c6dfb3"
      }
     },
     "metadata": {}
    }
   ],
   "metadata": {}
  },
  {
   "cell_type": "code",
   "execution_count": 50,
   "source": [
    "es.indices.get_mapping( 'paintings')"
   ],
   "outputs": [
    {
     "output_type": "stream",
     "name": "stderr",
     "text": [
      "/opt/homebrew/Caskroom/miniforge/base/envs/.art/lib/python3.9/site-packages/elasticsearch/connection/base.py:208: ElasticsearchWarning: Elasticsearch built-in security features are not enabled. Without authentication, your cluster could be accessible to anyone. See https://www.elastic.co/guide/en/elasticsearch/reference/7.13/security-minimal-setup.html to enable security.\n",
      "  warnings.warn(message, category=ElasticsearchWarning)\n"
     ]
    },
    {
     "output_type": "execute_result",
     "data": {
      "text/plain": [
       "{'paintings': {'mappings': {'properties': {'author': {'type': 'keyword'},\n",
       "    'description': {'type': 'text'},\n",
       "    'genre': {'type': 'keyword'},\n",
       "    'material': {'type': 'keyword'},\n",
       "    'style': {'type': 'keyword'},\n",
       "    'tags': {'type': 'text',\n",
       "     'fields': {'keyword': {'type': 'keyword', 'ignore_above': 256}}},\n",
       "    'title': {'type': 'text'},\n",
       "    'url': {'type': 'text'}}}}}"
      ]
     },
     "metadata": {},
     "execution_count": 50
    }
   ],
   "metadata": {}
  },
  {
   "cell_type": "code",
   "execution_count": null,
   "source": [],
   "outputs": [],
   "metadata": {}
  }
 ],
 "metadata": {
  "orig_nbformat": 4,
  "language_info": {
   "name": "python",
   "version": "3.9.6",
   "mimetype": "text/x-python",
   "codemirror_mode": {
    "name": "ipython",
    "version": 3
   },
   "pygments_lexer": "ipython3",
   "nbconvert_exporter": "python",
   "file_extension": ".py"
  },
  "kernelspec": {
   "name": "python3",
   "display_name": "Python 3.9.6 64-bit ('.art': conda)"
  },
  "interpreter": {
   "hash": "5943960f05fa8d0a4ee77593c6fb6e49e1174e402884489bc47b8b0bccb1272f"
  }
 },
 "nbformat": 4,
 "nbformat_minor": 2
}